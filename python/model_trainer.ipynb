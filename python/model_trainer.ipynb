{
 "cells": [
  {
   "cell_type": "markdown",
   "id": "62fc0a6b",
   "metadata": {},
   "source": [
    "# On-Device Continual Learning - EMNIST Classification"
   ]
  },
  {
   "cell_type": "code",
   "execution_count": 2,
   "id": "cd47db55",
   "metadata": {},
   "outputs": [],
   "source": [
    "import tensorflow as tf\n",
    "import tensorflow_datasets as tfds\n",
    "import matplotlib.pyplot as plt\n",
    "import numpy as np\n",
    "import string\n",
    "from sklearn.metrics import confusion_matrix, classification_report\n",
    "import seaborn as sns\n",
    "from collections import defaultdict, Counter\n",
    "import random"
   ]
  },
  {
   "cell_type": "code",
   "execution_count": 3,
   "id": "881f094d",
   "metadata": {},
   "outputs": [
    {
     "name": "stdout",
     "output_type": "stream",
     "text": [
      "TensorFlow version: 2.19.0\n"
     ]
    }
   ],
   "source": [
    "print(\"TensorFlow version:\", tf.__version__)"
   ]
  },
  {
   "cell_type": "markdown",
   "id": "ee054f7c",
   "metadata": {},
   "source": [
    "## Model"
   ]
  },
  {
   "cell_type": "markdown",
   "id": "cfc2fb7d",
   "metadata": {},
   "source": [
    "### Load Dataset"
   ]
  },
  {
   "cell_type": "code",
   "execution_count": 4,
   "id": "dc530805",
   "metadata": {},
   "outputs": [],
   "source": [
    "(t_ds_train, t_ds_test), ds_info = tfds.load(\n",
    "    'emnist/letters',\n",
    "    split=['train', 'test'],\n",
    "    shuffle_files=True,\n",
    "    as_supervised=True,\n",
    "    with_info=True\n",
    ")\n",
    "\n",
    "ds_full = t_ds_train.concatenate(t_ds_test)\n",
    "label_map = list(string.ascii_uppercase)"
   ]
  },
  {
   "cell_type": "markdown",
   "id": "f9ab9f64",
   "metadata": {},
   "source": [
    "### Preprocess Dataset"
   ]
  },
  {
   "cell_type": "code",
   "execution_count": 5,
   "id": "0f5e9a2e",
   "metadata": {},
   "outputs": [],
   "source": [
    "def preprocess(image, label):\n",
    "    image = tf.cast(image, tf.float32) / 255.0\n",
    "    # image = tf.expand_dims(image, -1)\n",
    "    label = label - 1\n",
    "    return image, label"
   ]
  },
  {
   "cell_type": "code",
   "execution_count": 6,
   "id": "b90ea91b",
   "metadata": {},
   "outputs": [],
   "source": [
    "AUTOTUNE = tf.data.AUTOTUNE\n",
    "buffer_size = ds_info.splits['train'].num_examples + ds_info.splits['test'].num_examples\n",
    "\n",
    "ds_full = ds_full.map(preprocess, num_parallel_calls=AUTOTUNE)\n",
    "ds_full = ds_full.shuffle(buffer_size, reshuffle_each_iteration=True)"
   ]
  },
  {
   "cell_type": "code",
   "execution_count": 7,
   "id": "51b850bc",
   "metadata": {},
   "outputs": [],
   "source": [
    "total = buffer_size\n",
    "n_train = int(0.8 * total)\n",
    "n_val   = int(0.1 * total)\n",
    "n_test  = total - n_train - n_val\n",
    "\n",
    "ds_train = ds_full.take(n_train)\n",
    "rest = ds_full.skip(n_train)\n",
    "ds_val = rest.take(n_val)\n",
    "ds_test = rest.skip(n_val)"
   ]
  },
  {
   "cell_type": "code",
   "execution_count": 8,
   "id": "e068925e",
   "metadata": {},
   "outputs": [],
   "source": [
    "batch_size = 64\n",
    "\n",
    "ds_train_proc = (\n",
    "    ds_full\n",
    "    .batch(batch_size)\n",
    "    .prefetch(AUTOTUNE)\n",
    ")\n",
    "\n",
    "ds_val_proc = (\n",
    "    ds_val\n",
    "    .batch(batch_size)\n",
    "    .prefetch(AUTOTUNE)\n",
    ")\n",
    "\n",
    "ds_test_proc = (\n",
    "    ds_test\n",
    "    .batch(batch_size)\n",
    "    .prefetch(AUTOTUNE)\n",
    ")\n",
    "\n",
    "tf.data.Dataset.save(\n",
    "    ds_test_proc,\n",
    "    \"../saved_ds/test_proc\",\n",
    "    compression=None\n",
    ")"
   ]
  },
  {
   "cell_type": "code",
   "execution_count": null,
   "id": "60c0e0e3",
   "metadata": {},
   "outputs": [],
   "source": [
    "## Print Numbre exambles in each set\n",
    "\n",
    "\n",
    "# print(\"Train set:\")\n",
    "# ctr = Counter()\n",
    "# for image, label in ds_train.map(preprocess).as_numpy_iterator():\n",
    "#     ctr[int(label)] += 1\n",
    "\n",
    "# for i in range(len(ctr)):\n",
    "#     print(f\"{i} ({label_map[i]}): {ctr[i]}\")\n",
    "\n",
    "# print(\"Validation set:\")\n",
    "# ctr = Counter()\n",
    "# for image, label in ds_val.map(preprocess).as_numpy_iterator():\n",
    "#     ctr[int(label)] += 1\n",
    "\n",
    "# # Mostrem el resultat\n",
    "# for i in range(len(ctr)):\n",
    "#     print(f\"{i} ({label_map[i]}): {ctr[i]}\")\n",
    "\n",
    "# print(\"Test set:\")\n",
    "# ctr = Counter()\n",
    "# for image, label in ds_test.map(preprocess).as_numpy_iterator():\n",
    "#     ctr[int(label)] += 1\n",
    "\n",
    "# # Mostrem el resultat\n",
    "# for i in range(len(ctr)):\n",
    "#     print(f\"{i} ({label_map[i]}): {ctr[i]}\")\n",
    "\n"
   ]
  },
  {
   "cell_type": "code",
   "execution_count": 9,
   "id": "432721ac",
   "metadata": {},
   "outputs": [
    {
     "data": {
      "image/png": "[encoded data removed]",
      "text/plain": [
       "<Figure size 800x600 with 6 Axes>"
      ]
     },
     "metadata": {},
     "output_type": "display_data"
    }
   ],
   "source": [
    "fig, axes = plt.subplots(2, 3, figsize=(8, 6))\n",
    "for i, example in enumerate(ds_train_proc.unbatch().take(6)):\n",
    "    image, label = example\n",
    "    ax = axes[i // 3, i % 3]\n",
    "    ax.imshow(tf.squeeze(image), cmap='gray')\n",
    "\n",
    "    label_str = label_map[label.numpy()]\n",
    "\n",
    "    ax.set_title(f'Label: {label_str}')\n",
    "    ax.axis('off')\n",
    "\n",
    "plt.tight_layout()\n",
    "plt.show()\n"
   ]
  },
  {
   "cell_type": "markdown",
   "id": "2618b067",
   "metadata": {},
   "source": [
    "### Model Definition"
   ]
  },
  {
   "cell_type": "code",
   "execution_count": 128,
   "id": "72fd0842",
   "metadata": {},
   "outputs": [],
   "source": [
    "from tensorflow.keras import layers, models, optimizers, callbacks\n",
    "\n",
    "def create_cil_model(input_shape=(28,28,1), num_classes=26):\n",
    "    inp = layers.Input(input_shape)\n",
    "\n",
    "    # -------- Bloc 1 --------\n",
    "    x = layers.Conv2D(32, 3, padding='same', name='conv1')(inp)\n",
    "    x = layers.BatchNormalization(name='bn1')(x)\n",
    "    x = layers.Activation('relu', name='act1')(x)\n",
    "    x = layers.Conv2D(32, 3, padding='same', name='conv1b')(x)\n",
    "    x = layers.BatchNormalization(name='bn1b')(x)\n",
    "    x = layers.Activation('relu', name='act2')(x)\n",
    "    x = layers.MaxPool2D(2, name='pool1')(x)\n",
    "\n",
    "    # -------- Bloc 2 --------\n",
    "    x = layers.Conv2D(64, 3, padding='same', name='conv2')(x)\n",
    "    x = layers.BatchNormalization(name='bn2')(x)\n",
    "    x = layers.Activation('relu', name=\"act3\")(x)\n",
    "    x = layers.MaxPool2D(2, name='pool2')(x)\n",
    "\n",
    "    # -------- Embedding --------\n",
    "    x = layers.Flatten(name='flatten')(x)\n",
    "    x = layers.Dense(256, activation='relu', name='features1')(x)\n",
    "    # x = layers.Dropout(0.5, seed=1337, name='drop1')(x)\n",
    "    x = layers.Dense(128, activation='relu', name='features2')(x)\n",
    "    # x = layers.Dropout(0.5, seed=1337, name='drop2')(x)\n",
    "\n",
    "    # -------- Classificador -------- \n",
    "    logits = layers.Dense(num_classes, name='classifier')(x)\n",
    "    out   = layers.Activation('softmax', name='probabilities')(logits)\n",
    "\n",
    "    model = models.Model(inp, out)\n",
    "\n",
    "    for name in ['conv1','bn1','act1','conv1b','bn1b','act2','pool1']:\n",
    "        model.get_layer(name).trainable = False\n",
    "    \n",
    "    # for layer in model.layers:\n",
    "    #     print(f\"{layer.name:15} trainable={layer.trainable}\")\n",
    "\n",
    "    return model"
   ]
  },
  {
   "cell_type": "markdown",
   "id": "2543d921",
   "metadata": {},
   "source": [
    "### Training"
   ]
  },
  {
   "cell_type": "code",
   "execution_count": 129,
   "id": "7559e779",
   "metadata": {},
   "outputs": [],
   "source": [
    "model = tf.keras.models.load_model(\"../models/emnist_model.keras\")"
   ]
  },
  {
   "cell_type": "markdown",
   "id": "d65aa943",
   "metadata": {},
   "source": [
    "## Model Evaluation"
   ]
  },
  {
   "cell_type": "code",
   "execution_count": null,
   "id": "af89c551",
   "metadata": {},
   "outputs": [],
   "source": [
    "# Evaluate loss and accuracy\n",
    "test_loss, test_acc = model.evaluate(ds_test_proc)\n",
    "print(f'\\nTest Loss: {test_loss:.4f}')\n",
    "print(f'Test Accuracy: {test_acc:.4f}')\n",
    "\n",
    "# Collect predictions and true labels\n",
    "y_true = []\n",
    "y_pred = []\n",
    "\n",
    "for images, labels in ds_test_proc:\n",
    "    probs = model.predict(images)\n",
    "    preds = tf.argmax(probs, axis=1).numpy()\n",
    "    y_pred.extend(preds)\n",
    "    y_true.extend(labels.numpy())\n",
    "\n",
    "# Confusion Matrix\n",
    "cm = confusion_matrix(y_true, y_pred)\n",
    "plt.figure(figsize=(12, 10))\n",
    "sns.heatmap(cm, annot=True, fmt='d', cmap='Blues',\n",
    "            xticklabels=label_map, yticklabels=label_map)\n",
    "plt.xlabel('Predicted')\n",
    "plt.ylabel('True')\n",
    "plt.title('Confusion Matrix')\n",
    "plt.show()\n",
    "\n",
    "# Classification Report\n",
    "print(\"\\nClassification Report (Precision, Recall, F1):\")\n",
    "print(classification_report(y_true, y_pred, target_names=label_map))"
   ]
  },
  {
   "cell_type": "code",
   "execution_count": 130,
   "id": "1baa5936",
   "metadata": {},
   "outputs": [
    {
     "data": {
      "image/png": "[encoded data removed]",
      "text/plain": [
       "<Figure size 800x600 with 6 Axes>"
      ]
     },
     "metadata": {},
     "output_type": "display_data"
    }
   ],
   "source": [
    "for images, labels in ds_test_proc.take(1):  # MUST be the preprocessed dataset\n",
    "    predictions = model(images)\n",
    "    pred_labels = tf.argmax(predictions, axis=1)\n",
    "    \n",
    "    fig, axes = plt.subplots(2, 3, figsize=(8, 6))\n",
    "    for i in range(6):\n",
    "        ax = axes[i // 3, i % 3]\n",
    "        ax.imshow(tf.squeeze(images[i]), cmap='gray')\n",
    "\n",
    "        true_char = label_map[labels[i].numpy()]           # 0–25 → 'A'–'Z'\n",
    "        pred_char = label_map[pred_labels[i].numpy()]      # 0–25 → 'A'–'Z'\n",
    "\n",
    "        ax.set_title(f'True: {true_char}, Pred: {pred_char}')\n",
    "        ax.axis('off')\n",
    "\n",
    "    plt.tight_layout()\n",
    "    plt.show()"
   ]
  },
  {
   "cell_type": "markdown",
   "id": "25247896",
   "metadata": {},
   "source": [
    "### Save Model"
   ]
  },
  {
   "cell_type": "code",
   "execution_count": null,
   "id": "03e29cc1",
   "metadata": {},
   "outputs": [],
   "source": [
    "model.save(\"../models/emnist_model.keras\")"
   ]
  },
  {
   "cell_type": "markdown",
   "id": "506af9f0",
   "metadata": {},
   "source": [
    "## Model Wrap"
   ]
  },
  {
   "cell_type": "markdown",
   "id": "9e5bbcf8",
   "metadata": {},
   "source": [
    "### LittleRTModule"
   ]
  },
  {
   "cell_type": "code",
   "execution_count": 131,
   "id": "c5747c53",
   "metadata": {},
   "outputs": [],
   "source": [
    "# INFERENCE and TRAINING\n",
    "\n",
    "class LiteRTModule(tf.Module):\n",
    "    def __init__(self, model, dropout_rate=0.5, dropout_seed=1337):\n",
    "        super().__init__(name=\"LiteRT_CIL_Model\")\n",
    "        self.model = model\n",
    "        self.optimizer = tf.keras.optimizers.Adam()\n",
    "        self.loss_fn   = tf.keras.losses.SparseCategoricalCrossentropy()\n",
    "        self.dropout_rate = dropout_rate\n",
    "        self.dropout_seed = dropout_seed\n",
    "\n",
    "        self.py_ckpt = tf.train.Checkpoint(model=self.model, optimizer=self.optimizer)\n",
    "        self.py_ckpt_manager = None\n",
    "\n",
    "    @tf.function(input_signature=[\n",
    "        tf.TensorSpec([None, 28, 28, 1], tf.float32, name=\"images\"),\n",
    "        tf.TensorSpec([None], tf.int64, name=\"labels\")\n",
    "    ])\n",
    "    def train(self, images, labels):\n",
    "        # apply _stateless_ dropout here:\n",
    "        images_drop = tf.nn.dropout(\n",
    "            images,\n",
    "            rate=self.dropout_rate,\n",
    "            seed=self.dropout_seed\n",
    "        )\n",
    "        with tf.GradientTape() as tape:\n",
    "            logits = self.model(images_drop, training=True)\n",
    "            loss = self.loss_fn(labels, logits)\n",
    "        \n",
    "        trainable_vars = self.model.trainable_variables\n",
    "        if not trainable_vars: # Defensive check\n",
    "            tf.print(\"Warning: No trainable variables found in the model for LiteRTModule.train().\")\n",
    "            return {\"loss\": loss}\n",
    "        \n",
    "        grads = tape.gradient(loss, trainable_vars)\n",
    "        self.optimizer.apply_gradients(\n",
    "            zip(grads, trainable_vars))\n",
    "        return {\"loss\": loss}\n",
    "\n",
    "    @tf.function(input_signature=[\n",
    "        tf.TensorSpec([None, 28, 28, 1], tf.float32, name=\"images\")\n",
    "    ])\n",
    "    def infer(self, images):\n",
    "        probs = self.model(images, training=False)\n",
    "        return {\"probabilities\": probs}\n",
    "    \n",
    "    def _ensure_model_built(self, sample_input_shape=(1, 28, 28, 1)):\n",
    "        \"\"\"\n",
    "        Ensures the Keras model is built before export.\n",
    "        The batch dimension in sample_input_shape should typically be 1 or None.\n",
    "        \"\"\"\n",
    "        if not self.model.built:\n",
    "            print(f\"Model not built. Attempting to build with input_shape={sample_input_shape}...\")\n",
    "            try:\n",
    "                if self.model._is_graph_network or isinstance(self.model, tf.keras.Sequential): # Functional or Sequential\n",
    "                    self.model.build(input_shape=sample_input_shape)\n",
    "                else: # Subclassed model - try calling it\n",
    "                    # Create a compliant dummy input (ensure batch dimension matches what build expects)\n",
    "                    dummy_input_tensor = tf.zeros(sample_input_shape, dtype=tf.float32)\n",
    "                    _ = self.model(dummy_input_tensor)\n",
    "                print(\"Model built successfully.\")\n",
    "            except Exception as e:\n",
    "                print(f\"ERROR: Failed to build model automatically with shape {sample_input_shape}: {str(e)}\")\n",
    "                print(\"Ensure the model is built (e.g., by training, evaluation, or an explicit model.build() call) before export.\")\n",
    "                raise\n",
    "    \n",
    "    def export_weights_for_c(self, custom_filepath=\"model_weights.dat\"):\n",
    "        \"\"\"Exports model weights to a custom simple binary format for C applications.\"\"\"\n",
    "        self._ensure_model_built() # Ensure model is built so weights exist\n",
    "        try:\n",
    "            with open(custom_filepath, 'wb') as f:\n",
    "                weights_to_save = self.model.weights # Export all weights\n",
    "                num_tensors = len(weights_to_save)\n",
    "                f.write(np.int32(num_tensors).tobytes())\n",
    "\n",
    "                for var in weights_to_save:\n",
    "                    var_name = var.name\n",
    "                    var_data = var.numpy()\n",
    "                    \n",
    "                    name_bytes = var_name.encode('utf-8')\n",
    "                    f.write(np.int32(len(name_bytes)).tobytes())\n",
    "                    f.write(name_bytes)\n",
    "                    \n",
    "                    f.write(np.int32(var_data.ndim).tobytes())\n",
    "                    for dim_size in var_data.shape:\n",
    "                        f.write(np.int32(dim_size).tobytes())\n",
    "                    \n",
    "                    # Assuming float32 for C.\n",
    "                    if var_data.dtype != np.float32:\n",
    "                        # print(f\"Info: Variable {var_name} is {var_data.dtype}, casting to float32 for export.\")\n",
    "                        var_data = var_data.astype(np.float32)\n",
    "                    f.write(np.int32(0).tobytes()) # Data type identifier (0 for float32)\n",
    "                    \n",
    "                    f.write(var_data.tobytes())\n",
    "            print(f\"Exported {num_tensors} weight tensors to custom C format: {custom_filepath}\")\n",
    "            return {\"status\": \"EXPORTED_FOR_C_SUCCESS\", \"path\": custom_filepath}\n",
    "        except Exception as e:\n",
    "            print(f\"ERROR exporting weights for C: {str(e)}\")\n",
    "            return {\"status\": f\"EXPORTED_FOR_C_FAILED: {str(e)}\", \"path\": None}\n",
    "\n",
    "    def import_weights_from_c_format(self, custom_filepath=\"model_weights.dat\"):\n",
    "        \"\"\"Imports model weights from the custom simple binary format.\"\"\"\n",
    "        self._ensure_model_built() # Ensure model is built to have target variables\n",
    "        try:\n",
    "            with open(custom_filepath, 'rb') as f:\n",
    "                num_tensors_in_file = np.frombuffer(f.read(4), dtype=np.int32)[0]\n",
    "                \n",
    "                if num_tensors_in_file != len(self.model.weights):\n",
    "                    raise ValueError(f\"Tensor count mismatch. Model expects {len(self.model.weights)}, file has {num_tensors_in_file}\")\n",
    "\n",
    "                for i in range(num_tensors_in_file):\n",
    "                    name_len = np.frombuffer(f.read(4), dtype=np.int32)[0]\n",
    "                    name_from_file = f.read(name_len).decode('utf-8')\n",
    "                    \n",
    "                    ndim = np.frombuffer(f.read(4), dtype=np.int32)[0]\n",
    "                    # Read the entire shape tuple at once\n",
    "                    shape_from_file = tuple(np.frombuffer(f.read(ndim * np.dtype(np.int32).itemsize), dtype=np.int32))\n",
    "                    \n",
    "                    dtype_enum = np.frombuffer(f.read(4), dtype=np.int32)[0]\n",
    "                    if dtype_enum != 0: # Assuming 0 for float32\n",
    "                        raise ValueError(f\"Unsupported data type enum {dtype_enum} in file for {name_from_file}\")\n",
    "                    \n",
    "                    target_var = self.model.weights[i] # Assumes order in file matches model.weights\n",
    "                    if target_var.name != name_from_file:\n",
    "                        print(f\"Warning: Name mismatch during import. Model var: {target_var.name}, File var: {name_from_file}. Assigning by order.\")\n",
    "                    if target_var.shape != shape_from_file:\n",
    "                        raise ValueError(f\"Shape mismatch for {target_var.name}. Model: {target_var.shape}, File: {shape_from_file}\")\n",
    "\n",
    "                    num_elements = np.prod(shape_from_file)\n",
    "                    bytes_to_read = num_elements * np.dtype(np.float32).itemsize\n",
    "                    data_from_file = np.frombuffer(f.read(bytes_to_read), dtype=np.float32).reshape(shape_from_file)\n",
    "                    \n",
    "                    target_var.assign(data_from_file)\n",
    "            print(f\"Imported {num_tensors_in_file} weight tensors from custom C format: {custom_filepath}\")\n",
    "            return {\"status\": \"IMPORTED_FROM_C_SUCCESS\"}\n",
    "        except Exception as e:\n",
    "            print(f\"ERROR importing weights from C format: {str(e)}\")\n",
    "            return {\"status\": f\"IMPORTED_FROM_C_FAILED: {str(e)}\"}\n",
    "\n",
    "    def export_to_tflite(self, tflite_model_path=\"model.tflite\"):\n",
    "        \"\"\"Converts the Keras model to a TFLite model file (primarily for inference).\"\"\"\n",
    "        self._ensure_model_built() # Ensure model is built\n",
    "        try:\n",
    "            converter = tf.lite.TFLiteConverter.from_keras_model(self.model)\n",
    "            # Optional: Add optimizations or configurations for TFLite\n",
    "            # converter.optimizations = [tf.lite.Optimize.DEFAULT]\n",
    "            tflite_model_data = converter.convert()\n",
    "\n",
    "            with open(tflite_model_path, 'wb') as f:\n",
    "                f.write(tflite_model_data)\n",
    "            print(f\"Exported TFLite model (for inference) to: {tflite_model_path}\")\n",
    "            return {\"status\": \"TFLITE_EXPORT_SUCCESS\", \"path\": tflite_model_path}\n",
    "        except Exception as e:\n",
    "            print(f\"ERROR exporting to TFLite: {str(e)}\")\n",
    "            print(\"Ensure the Keras model is built and callable before TFLite conversion.\")\n",
    "            return {\"status\": f\"TFLITE_EXPORT_FAILED: {str(e)}\", \"path\": None}"
   ]
  },
  {
   "cell_type": "markdown",
   "id": "20ec9291",
   "metadata": {},
   "source": [
    "### Create Wraped Model"
   ]
  },
  {
   "cell_type": "code",
   "execution_count": 132,
   "id": "787b0974",
   "metadata": {},
   "outputs": [],
   "source": [
    "litert_module = LiteRTModule(model)"
   ]
  },
  {
   "cell_type": "markdown",
   "id": "de97adc4",
   "metadata": {},
   "source": [
    "### Save Model with Signatures"
   ]
  },
  {
   "cell_type": "code",
   "execution_count": 133,
   "id": "036bf900",
   "metadata": {},
   "outputs": [
    {
     "name": "stdout",
     "output_type": "stream",
     "text": [
      "Exported 24 weight tensors to custom C format: ./model_exports_for_c/deployed_model_weights.dat\n",
      "INFO:tensorflow:Assets written to: C:\\Users\\arnau\\AppData\\Local\\Temp\\tmp7uwif2zc\\assets\n"
     ]
    },
    {
     "name": "stderr",
     "output_type": "stream",
     "text": [
      "INFO:tensorflow:Assets written to: C:\\Users\\arnau\\AppData\\Local\\Temp\\tmp7uwif2zc\\assets\n"
     ]
    },
    {
     "name": "stdout",
     "output_type": "stream",
     "text": [
      "Saved artifact at 'C:\\Users\\arnau\\AppData\\Local\\Temp\\tmp7uwif2zc'. The following endpoints are available:\n",
      "\n",
      "* Endpoint 'serve'\n",
      "  args_0 (POSITIONAL_ONLY): TensorSpec(shape=(None, 28, 28, 1), dtype=tf.float32, name='input_layer_1')\n",
      "Output Type:\n",
      "  TensorSpec(shape=(None, 26), dtype=tf.float32, name=None)\n",
      "Captures:\n",
      "  2786653999696: TensorSpec(shape=(), dtype=tf.resource, name=None)\n",
      "  2786653999120: TensorSpec(shape=(), dtype=tf.resource, name=None)\n",
      "  2786653998544: TensorSpec(shape=(), dtype=tf.resource, name=None)\n",
      "  2786653998736: TensorSpec(shape=(), dtype=tf.resource, name=None)\n",
      "  2786653997968: TensorSpec(shape=(), dtype=tf.resource, name=None)\n",
      "  2786653995856: TensorSpec(shape=(), dtype=tf.resource, name=None)\n",
      "  2786653996624: TensorSpec(shape=(), dtype=tf.resource, name=None)\n",
      "  2786654995088: TensorSpec(shape=(), dtype=tf.resource, name=None)\n",
      "  2786654996432: TensorSpec(shape=(), dtype=tf.resource, name=None)\n",
      "  2786654997392: TensorSpec(shape=(), dtype=tf.resource, name=None)\n",
      "  2786654994704: TensorSpec(shape=(), dtype=tf.resource, name=None)\n",
      "  2786654996624: TensorSpec(shape=(), dtype=tf.resource, name=None)\n",
      "  2786655002192: TensorSpec(shape=(), dtype=tf.resource, name=None)\n",
      "  2786655001616: TensorSpec(shape=(), dtype=tf.resource, name=None)\n",
      "  2786655000848: TensorSpec(shape=(), dtype=tf.resource, name=None)\n",
      "  2786655000656: TensorSpec(shape=(), dtype=tf.resource, name=None)\n",
      "  2786654997584: TensorSpec(shape=(), dtype=tf.resource, name=None)\n",
      "  2786655001808: TensorSpec(shape=(), dtype=tf.resource, name=None)\n",
      "  2786655003152: TensorSpec(shape=(), dtype=tf.resource, name=None)\n",
      "  2786655003728: TensorSpec(shape=(), dtype=tf.resource, name=None)\n",
      "  2786655002768: TensorSpec(shape=(), dtype=tf.resource, name=None)\n",
      "  2786655004496: TensorSpec(shape=(), dtype=tf.resource, name=None)\n",
      "  2786655003920: TensorSpec(shape=(), dtype=tf.resource, name=None)\n",
      "  2786655005264: TensorSpec(shape=(), dtype=tf.resource, name=None)\n",
      "Exported TFLite model (for inference) to: ../models/emnist_litert_train2.tflite\n",
      "TFLite export status: {'status': 'TFLITE_EXPORT_SUCCESS', 'path': '../models/emnist_litert_train2.tflite'}\n"
     ]
    }
   ],
   "source": [
    "c_path = \"./model_exports_for_c/deployed_model_weights.dat\"\n",
    "export_status = litert_module.export_weights_for_c(custom_filepath=c_path)\n",
    "\n",
    "if not export_status.get(\"status\") == \"EXPORTED_FOR_C_SUCCESS\":\n",
    "    raise RuntimeError(f\"Export for C failed: {export_status.get('status')}\")\n",
    "\n",
    "\n",
    "export_tflite_status = litert_module.export_to_tflite(tflite_model_path=\"../models/emnist_litert_train2.tflite\")\n",
    "print(f\"TFLite export status: {export_tflite_status}\")\n",
    "\n",
    "if not export_tflite_status.get(\"status\") == \"TFLITE_EXPORT_SUCCESS\":\n",
    "    raise RuntimeError(f\"TFLite export failed: {export_tflite_status.get('status')}\")"
   ]
  },
  {
   "cell_type": "markdown",
   "id": "11fe9bec",
   "metadata": {},
   "source": [
    "# Test"
   ]
  },
  {
   "cell_type": "markdown",
   "id": "0f2418fe",
   "metadata": {},
   "source": [
    "Test Inference"
   ]
  },
  {
   "cell_type": "code",
   "execution_count": 134,
   "id": "b7800d69",
   "metadata": {},
   "outputs": [
    {
     "name": "stdout",
     "output_type": "stream",
     "text": [
      "Inference output probabilities shape: (1, 26)\n"
     ]
    }
   ],
   "source": [
    "for images, labels in ds_test_proc.take(1):\n",
    "    test_image = images[0]\n",
    "    test_label = labels[0]\n",
    "    test_image = tf.expand_dims(test_image, axis=0)\n",
    "\n",
    "try:\n",
    "    infer_output = litert_module.infer(tf.constant(test_image))\n",
    "    probabilities = infer_output['probabilities']\n",
    "    print(f\"Inference output probabilities shape: {probabilities.shape}\")\n",
    "except Exception as e:\n",
    "    print(f\"❌ LiteRTModule Inference: Test FAILED with error: {str(e)}\")"
   ]
  },
  {
   "cell_type": "markdown",
   "id": "5fef6638",
   "metadata": {},
   "source": [
    "Test Training"
   ]
  },
  {
   "cell_type": "code",
   "execution_count": 124,
   "id": "b21d3350",
   "metadata": {},
   "outputs": [
    {
     "name": "stdout",
     "output_type": "stream",
     "text": [
      "  Running a train step via LiteRTModule...\n",
      "  LiteRTModule train loss: 1.0727\n",
      "  Weight 'kernel' changed after LiteRTModule.train().\n",
      "  ✅ LiteRTModule Train method: Test SUCCEEDED (weights changed).\n"
     ]
    }
   ],
   "source": [
    "trainable_weights_before_lrtm_train = []\n",
    "if litert_module.model.trainable_weights:\n",
    "    for w in litert_module.model.trainable_weights:\n",
    "        trainable_weights_before_lrtm_train.append(w.numpy().copy())\n",
    "\n",
    "    dummy_train_labels_lrt = np.random.randint(0, model.output_shape[-1], size=(1), dtype=np.int64)\n",
    "    \n",
    "\n",
    "    print(\"  Running a train step via LiteRTModule...\")\n",
    "    label_for_train = tf.constant([test_label.numpy()], dtype=tf.int64)\n",
    "    loss_info = litert_module.train(tf.constant(test_image), label_for_train)\n",
    "\n",
    "\n",
    "    print(f\"  LiteRTModule train loss: {loss_info['loss'].numpy():.4f}\")\n",
    "\n",
    "    weights_changed = False\n",
    "    if trainable_weights_before_lrtm_train:\n",
    "        for i, w_before in enumerate(trainable_weights_before_lrtm_train):\n",
    "            if not np.allclose(w_before, litert_module.model.trainable_weights[i].numpy()):\n",
    "                weights_changed = True\n",
    "                print(f\"  Weight '{litert_module.model.trainable_weights[i].name}' changed after LiteRTModule.train().\")\n",
    "                break\n",
    "        if weights_changed:\n",
    "            print(\"  ✅ LiteRTModule Train method: Test SUCCEEDED (weights changed).\")\n",
    "        else:\n",
    "            print(\"  ⚠️ LiteRTModule Train method: Test Result - Weights did NOT change (or no trainable vars). This might be expected if learning rate is tiny or gradients were zero.\")\n",
    "    else:   \n",
    "        print(\"  Info: LiteRTModule Train method - No trainable weights in the model to check for changes.\")\n",
    "else:\n",
    "    print(\"  Skipping LiteRTModule.train() test as model has no trainable variables.\")\n"
   ]
  },
  {
   "cell_type": "markdown",
   "id": "291650e5",
   "metadata": {},
   "source": [
    "Verify Export/Import"
   ]
  },
  {
   "cell_type": "code",
   "execution_count": 125,
   "id": "25a99082",
   "metadata": {},
   "outputs": [
    {
     "name": "stdout",
     "output_type": "stream",
     "text": [
      "\n",
      "--- Step 5c (Optional): Verifying Custom C Format Export/Import ---\n",
      "  Exporting to  for verification...\n",
      "Exported 24 weight tensors to custom C format: ./model_exports_for_c/verify_model_weights.dat\n",
      "  Modifying weights in temp_litert_module before importing...\n",
      "  Importing from C format file: \n",
      "Imported 24 weight tensors from custom C format: ./model_exports_for_c/verify_model_weights.dat\n",
      "  Import status: {'status': 'IMPORTED_FROM_C_SUCCESS'}\n",
      "  ✅ LiteRTModule Custom C Format Export/Import Verification: SUCCESSFUL!\n"
     ]
    }
   ],
   "source": [
    "print(\"\\n--- Step 5c (Optional): Verifying Custom C Format Export/Import ---\")\n",
    "#\n",
    "temp_keras_model_for_export_test = create_cil_model(num_classes=model.output_shape[-1])\n",
    "\n",
    "temp_keras_model_for_export_test.set_weights(model.get_weights())\n",
    "temp_litert_module = LiteRTModule(model=temp_keras_model_for_export_test)\n",
    "\n",
    "\n",
    "print(f\"  Exporting to  for verification...\")\n",
    "verify_export_status = temp_litert_module.export_weights_for_c(custom_filepath=\"./model_exports_for_c/verify_model_weights.dat\")\n",
    "\n",
    "if verify_export_status.get(\"status\") == \"EXPORTED_FOR_C_SUCCESS\":\n",
    "    weights_at_verify_export_time = [w.numpy().copy() for w in temp_litert_module.model.weights]\n",
    "    \n",
    "    print(\"  Modifying weights in temp_litert_module before importing...\")\n",
    "    if temp_litert_module.model.weights:\n",
    "        temp_litert_module.model.weights[0].assign(np.random.rand(*temp_litert_module.model.weights[0].shape).astype(np.float32))\n",
    "\n",
    "    print(f\"  Importing from C format file: \")\n",
    "    import_c_status_verify = temp_litert_module.import_weights_from_c_format(custom_filepath=\"./model_exports_for_c/verify_model_weights.dat\")\n",
    "    print(f\"  Import status: {import_c_status_verify}\")\n",
    "\n",
    "    if import_c_status_verify.get(\"status\") == \"IMPORTED_FROM_C_SUCCESS\":\n",
    "        all_match = True\n",
    "        for i, w_orig in enumerate(weights_at_verify_export_time):\n",
    "            if not np.allclose(w_orig, temp_litert_module.model.weights[i].numpy()):\n",
    "                print(f\"    Mismatch found in weight: {temp_litert_module.model.weights[i].name}\")\n",
    "                all_match = False\n",
    "                break\n",
    "        if all_match:\n",
    "            print(\"  ✅ LiteRTModule Custom C Format Export/Import Verification: SUCCESSFUL!\")\n",
    "        else:\n",
    "            print(\"  ❌ LiteRTModule Custom C Format Export/Import Verification: FAILED!\")\n",
    "    else:\n",
    "        print(\"  Skipping C format import verification due to import failure.\")\n",
    "else:\n",
    "    print(\"  Skipping C format import verification due to export failure for verification.\")\n",
    "\n"
   ]
  },
  {
   "cell_type": "markdown",
   "id": "f23cb493",
   "metadata": {},
   "source": [
    "## OLD"
   ]
  },
  {
   "cell_type": "code",
   "execution_count": null,
   "id": "671cafd8",
   "metadata": {},
   "outputs": [],
   "source": [
    "tf.saved_model.save(\n",
    "    litert_module,\n",
    "    \"../models/lit_saved_model\",\n",
    "    signatures={\n",
    "        'train': litert_module.train,\n",
    "        'infer': litert_module.infer\n",
    "    }\n",
    ")"
   ]
  },
  {
   "cell_type": "markdown",
   "id": "f74375a2",
   "metadata": {},
   "source": [
    "### Convert to TFLitle"
   ]
  },
  {
   "cell_type": "code",
   "execution_count": null,
   "id": "31c2b8ce",
   "metadata": {},
   "outputs": [],
   "source": [
    "COMMON_SUPPORTED_OPS = [\n",
    "    tf.lite.OpsSet.TFLITE_BUILTINS,\n",
    "    tf.lite.OpsSet.SELECT_TF_OPS\n",
    "]\n",
    "\n",
    "c_train = tf.lite.TFLiteConverter.from_saved_model(\n",
    "    \"../models/lit_saved_model\",\n",
    "    signature_keys=[\"train\",\"infer\"]\n",
    ")\n",
    "c_train.target_spec.supported_ops = COMMON_SUPPORTED_OPS\n",
    "c_train.experimental_enable_resource_variables = True\n",
    "tflite_train = c_train.convert()\n",
    "open(\"../models/emnist_litert_train.tflite\",\"wb\").write(tflite_train)\n",
    "\n",
    "\n",
    "c_infer = tf.lite.TFLiteConverter.from_keras_model(model)\n",
    "c_infer.target_spec.supported_ops = [ tf.lite.OpsSet.TFLITE_BUILTINS ]\n",
    "c_infer.experimental_enable_resource_variables = False\n",
    "tflite_inf = c_infer.convert()\n",
    "open(\"../models/emnist_litert_infer.tflite\",\"wb\").write(tflite_inf)"
   ]
  },
  {
   "cell_type": "markdown",
   "id": "2af23624",
   "metadata": {},
   "source": [
    "## Comparation"
   ]
  },
  {
   "cell_type": "code",
   "execution_count": 135,
   "id": "081afa95",
   "metadata": {},
   "outputs": [
    {
     "name": "stderr",
     "output_type": "stream",
     "text": [
      "c:\\Users\\arnau\\Uni\\Master\\1B UniTn\\IoT\\Project\\.venv\\Lib\\site-packages\\tensorflow\\lite\\python\\interpreter.py:457: UserWarning:     Warning: tf.lite.Interpreter is deprecated and is scheduled for deletion in\n",
      "    TF 2.20. Please use the LiteRT interpreter from the ai_edge_litert package.\n",
      "    See the [migration guide](https://ai.google.dev/edge/litert/migration)\n",
      "    for details.\n",
      "    \n",
      "  warnings.warn(_INTERPRETER_DELETION_WARNING)\n"
     ]
    }
   ],
   "source": [
    "interpreter = tf.lite.Interpreter(model_path=\"../models/emnist_litert_train2.tflite\")\n",
    "interpreter.allocate_tensors()\n",
    "input_details = interpreter.get_input_details()\n",
    "output_details = interpreter.get_output_details()"
   ]
  },
  {
   "cell_type": "code",
   "execution_count": 137,
   "id": "4cb35351",
   "metadata": {},
   "outputs": [
    {
     "name": "stdout",
     "output_type": "stream",
     "text": [
      "\u001b[1m4/4\u001b[0m \u001b[32m━━━━━━━━━━━━━━━━━━━━\u001b[0m\u001b[37m\u001b[0m \u001b[1m0s\u001b[0m 14ms/step\n",
      "📊 Model Comparison Summary\n",
      "✅ Keras Accuracy:      0.9100\n",
      "✅ TFLite Accuracy:     0.9100\n",
      "📉 Avg Logit Delta:     1.48e-08\n",
      "📈 Max Logit Delta:     2.29e-06\n"
     ]
    }
   ],
   "source": [
    "x_all = []\n",
    "y_all = []\n",
    "\n",
    "# each x_batch is shape (64,28,28,1), each y_batch is (64,)\n",
    "for x_batch, y_batch in ds_test_proc.take(2):  \n",
    "    x_all.append(x_batch.numpy())\n",
    "    y_all.append(y_batch.numpy())\n",
    "\n",
    "x = np.concatenate(x_all, axis=0)  # -> (128,28,28,1)\n",
    "y = np.concatenate(y_all, axis=0)  # -> (128,)\n",
    "\n",
    "# Now exactly like before:\n",
    "num_samples = 100\n",
    "keras_logits = model.predict(x[:num_samples])\n",
    "tflite_logits = []\n",
    "for i in range(num_samples):\n",
    "    sample = x[i : i+1].astype(np.float32)      # already has leading batch dim\n",
    "    interpreter.set_tensor(input_details[0]['index'], sample)\n",
    "    interpreter.invoke()\n",
    "    tflite_logits.append(interpreter.get_tensor(output_details[0]['index'])[0])\n",
    "tflite_logits = np.stack(tflite_logits, axis=0)\n",
    "\n",
    "keras_preds  = np.argmax(keras_logits, axis=1)\n",
    "tflite_preds = np.argmax(tflite_logits, axis=1)\n",
    "keras_acc    = np.mean(keras_preds  == y[:num_samples])\n",
    "tflite_acc   = np.mean(tflite_preds == y[:num_samples])\n",
    "avg_diff     = np.mean(np.abs(keras_logits - tflite_logits))\n",
    "max_diff     = np.max (np.abs(keras_logits - tflite_logits))\n",
    "\n",
    "print(\"📊 Model Comparison Summary\")\n",
    "print(f\"✅ Keras Accuracy:      {keras_acc:.4f}\")\n",
    "print(f\"✅ TFLite Accuracy:     {tflite_acc:.4f}\")\n",
    "print(f\"📉 Avg Logit Delta:     {avg_diff:.2e}\")\n",
    "print(f\"📈 Max Logit Delta:     {max_diff:.2e}\")\n"
   ]
  }
 ],
 "metadata": {
  "kernelspec": {
   "display_name": ".venv (3.11.9)",
   "language": "python",
   "name": "python3"
  },
  "language_info": {
   "codemirror_mode": {
    "name": "ipython",
    "version": 3
   },
   "file_extension": ".py",
   "mimetype": "text/x-python",
   "name": "python",
   "nbconvert_exporter": "python",
   "pygments_lexer": "ipython3",
   "version": "3.11.9"
  }
 },
 "nbformat": 4,
 "nbformat_minor": 5
}
