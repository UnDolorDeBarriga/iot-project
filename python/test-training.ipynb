{
 "cells": [
  {
   "cell_type": "code",
   "execution_count": 1,
   "id": "2c1344ee",
   "metadata": {},
   "outputs": [],
   "source": [
    "import tensorflow_datasets as tfds\n",
    "import string\n",
    "import matplotlib.pyplot as plt"
   ]
  },
  {
   "cell_type": "markdown",
   "id": "ad5d33ac",
   "metadata": {},
   "source": [
    "## Letters"
   ]
  },
  {
   "cell_type": "code",
   "execution_count": null,
   "id": "10f3a1e4",
   "metadata": {},
   "outputs": [],
   "source": [
    "(t_ds_l_train, t_ds_l_test), ds_info = tfds.load(\n",
    "    'emnist/letters',\n",
    "    split=['train', 'test'],\n",
    "    shuffle_files=True,\n",
    "    as_supervised=True,\n",
    "    with_info=True\n",
    ")\n",
    "\n",
    "ds_full = t_ds_l_train.concatenate(t_ds_l_test)\n",
    "label_map = list(string.ascii_uppercase)"
   ]
  },
  {
   "cell_type": "code",
   "execution_count": null,
   "id": "45dad967",
   "metadata": {},
   "outputs": [],
   "source": [
    "i=0\n",
    "for img, lbl in ds_full.take(50):\n",
    "    image_np = img.numpy()\n",
    "    label_np = lbl.numpy()\n",
    "    print(\"Label:\", label_map[label_np-1])\n",
    "    # Remove channel dimension if present\n",
    "    image_2d = image_np.squeeze()\n",
    "    plt.imsave(f\"../images/letters/{label_map[label_np-1]}_{i}.png\", image_2d, cmap='gray')\n",
    "    i+= 1\n"
   ]
  },
  {
   "cell_type": "markdown",
   "id": "6daf1339",
   "metadata": {},
   "source": [
    "## Digits"
   ]
  },
  {
   "cell_type": "code",
   "execution_count": 2,
   "id": "900f304b",
   "metadata": {},
   "outputs": [],
   "source": [
    "(t_ds_d_train, t_ds_d_test), ds_info = tfds.load(\n",
    "    'emnist/digits',\n",
    "    split=['train', 'test'],\n",
    "    shuffle_files=True,\n",
    "    as_supervised=True,\n",
    "    with_info=True\n",
    ")\n",
    "\n",
    "ds_full = t_ds_d_train.concatenate(t_ds_d_test)\n",
    "label_map = list(string.digits)"
   ]
  },
  {
   "cell_type": "code",
   "execution_count": 3,
   "id": "ace60e49",
   "metadata": {},
   "outputs": [
    {
     "name": "stdout",
     "output_type": "stream",
     "text": [
      "Label: 8\n",
      "Label: 8\n",
      "Label: 3\n",
      "Label: 8\n",
      "Label: 6\n",
      "Label: 8\n",
      "Label: 2\n",
      "Label: 5\n",
      "Label: 3\n",
      "Label: 4\n",
      "Label: 1\n",
      "Label: 8\n",
      "Label: 0\n",
      "Label: 1\n",
      "Label: 4\n",
      "Label: 4\n",
      "Label: 6\n",
      "Label: 3\n",
      "Label: 9\n",
      "Label: 8\n",
      "Label: 1\n",
      "Label: 2\n",
      "Label: 6\n",
      "Label: 7\n",
      "Label: 9\n",
      "Label: 7\n",
      "Label: 1\n",
      "Label: 5\n",
      "Label: 7\n",
      "Label: 6\n",
      "Label: 6\n",
      "Label: 8\n",
      "Label: 2\n",
      "Label: 7\n",
      "Label: 7\n",
      "Label: 0\n",
      "Label: 3\n",
      "Label: 2\n",
      "Label: 4\n",
      "Label: 3\n",
      "Label: 9\n",
      "Label: 9\n",
      "Label: 6\n",
      "Label: 5\n",
      "Label: 5\n",
      "Label: 3\n",
      "Label: 0\n",
      "Label: 0\n",
      "Label: 9\n",
      "Label: 1\n"
     ]
    }
   ],
   "source": [
    "i={1:0, 2:0, 3:0, 4:0, 5:0, 6:0, 7:0, 8:0, 9:0, 0:0}\n",
    "for img, lbl in ds_full.take(50):\n",
    "    image_np = img.numpy()\n",
    "    label_np = lbl.numpy()\n",
    "    print(\"Label:\", label_map[label_np])\n",
    "    i[label_np] += 1\n",
    "    # Remove channel dimension if present\n",
    "    image_2d = image_np.squeeze()\n",
    "    plt.imsave(f\"../images/digits/{label_map[label_np]}_{i[label_np]}.png\", image_2d, cmap='gray')\n"
   ]
  }
 ],
 "metadata": {
  "kernelspec": {
   "display_name": ".venv (3.11.9)",
   "language": "python",
   "name": "python3"
  },
  "language_info": {
   "codemirror_mode": {
    "name": "ipython",
    "version": 3
   },
   "file_extension": ".py",
   "mimetype": "text/x-python",
   "name": "python",
   "nbconvert_exporter": "python",
   "pygments_lexer": "ipython3",
   "version": "3.11.9"
  }
 },
 "nbformat": 4,
 "nbformat_minor": 5
}
