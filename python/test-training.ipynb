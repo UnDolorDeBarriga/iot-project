{
 "cells": [
  {
   "cell_type": "code",
   "execution_count": null,
   "id": "2c1344ee",
   "metadata": {},
   "outputs": [],
   "source": [
    "import tensorflow_datasets as tfds\n",
    "import string\n",
    "import matplotlib.pyplot as plt"
   ]
  },
  {
   "cell_type": "markdown",
   "id": "ad5d33ac",
   "metadata": {},
   "source": [
    "## Letters"
   ]
  },
  {
   "cell_type": "code",
   "execution_count": null,
   "id": "10f3a1e4",
   "metadata": {},
   "outputs": [],
   "source": [
    "(t_ds_l_train, t_ds_l_test), ds_info = tfds.load(\n",
    "    'emnist/letters',\n",
    "    split=['train', 'test'],\n",
    "    shuffle_files=True,\n",
    "    as_supervised=True,\n",
    "    with_info=True\n",
    ")\n",
    "\n",
    "ds_full = t_ds_l_train.concatenate(t_ds_l_test)\n",
    "label_map = list(string.ascii_uppercase)"
   ]
  },
  {
   "cell_type": "code",
   "execution_count": null,
   "id": "45dad967",
   "metadata": {},
   "outputs": [],
   "source": [
    "i=0\n",
    "for img, lbl in ds_full.take(50):\n",
    "    image_np = img.numpy()\n",
    "    label_np = lbl.numpy()\n",
    "    print(\"Label:\", label_map[label_np-1])\n",
    "    # Remove channel dimension if present\n",
    "    image_2d = image_np.squeeze()\n",
    "    plt.imsave(f\"../images/letters/{label_map[label_np-1]}_{i}.png\", image_2d, cmap='gray')\n",
    "    i+= 1\n"
   ]
  },
  {
   "cell_type": "markdown",
   "id": "6daf1339",
   "metadata": {},
   "source": [
    "## Digits"
   ]
  },
  {
   "cell_type": "code",
   "execution_count": null,
   "id": "900f304b",
   "metadata": {},
   "outputs": [],
   "source": [
    "(t_ds_d_train, t_ds_d_test), ds_info = tfds.load(\n",
    "    'emnist/digits',\n",
    "    split=['train', 'test'],\n",
    "    shuffle_files=True,\n",
    "    as_supervised=True,\n",
    "    with_info=True\n",
    ")\n",
    "\n",
    "ds_full = t_ds_d_train.concatenate(t_ds_d_test)\n",
    "label_map = list(string.digits)"
   ]
  },
  {
   "cell_type": "code",
   "execution_count": null,
   "id": "ace60e49",
   "metadata": {},
   "outputs": [],
   "source": [
    "i=0\n",
    "for img, lbl in ds_full.take(50):\n",
    "    image_np = img.numpy()\n",
    "    label_np = lbl.numpy()\n",
    "    print(\"Label:\", label_map[label_np])\n",
    "    # Remove channel dimension if present\n",
    "    image_2d = image_np.squeeze()\n",
    "    plt.imsave(f\"../images/digits/{label_map[label_np]}_{i}.png\", image_2d, cmap='gray')\n",
    "    i+= 1\n"
   ]
  }
 ],
 "metadata": {
  "kernelspec": {
   "display_name": ".venv (3.11.9)",
   "language": "python",
   "name": "python3"
  },
  "language_info": {
   "codemirror_mode": {
    "name": "ipython",
    "version": 3
   },
   "file_extension": ".py",
   "mimetype": "text/x-python",
   "name": "python",
   "nbconvert_exporter": "python",
   "pygments_lexer": "ipython3",
   "version": "3.11.9"
  }
 },
 "nbformat": 4,
 "nbformat_minor": 5
}
