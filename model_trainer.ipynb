{
 "cells": [
  {
   "cell_type": "markdown",
   "id": "62fc0a6b",
   "metadata": {},
   "source": [
    "# On-Device Continual Learning - EMNIST Classification"
   ]
  },
  {
   "cell_type": "code",
   "execution_count": 10,
   "id": "cd47db55",
   "metadata": {},
   "outputs": [],
   "source": [
    "import tensorflow as tf\n",
    "import tensorflow_datasets as tfds\n",
    "import matplotlib.pyplot as plt\n",
    "import numpy as np\n",
    "import string\n",
    "from sklearn.metrics import confusion_matrix, classification_report\n",
    "import seaborn as sns\n",
    "from collections import defaultdict, Counter\n",
    "import random"
   ]
  },
  {
   "cell_type": "markdown",
   "id": "ee054f7c",
   "metadata": {},
   "source": [
    "## Model"
   ]
  },
  {
   "cell_type": "markdown",
   "id": "cfc2fb7d",
   "metadata": {},
   "source": [
    "### Load Dataset"
   ]
  },
  {
   "cell_type": "code",
   "execution_count": 11,
   "id": "dc530805",
   "metadata": {},
   "outputs": [],
   "source": [
    "(t_ds_train, t_ds_test), ds_info = tfds.load(\n",
    "    'emnist/letters',\n",
    "    split=['train', 'test'],\n",
    "    shuffle_files=True,\n",
    "    as_supervised=True,\n",
    "    with_info=True\n",
    ")\n",
    "\n",
    "ds_full = t_ds_train.concatenate(t_ds_test)\n",
    "label_map = list(string.ascii_uppercase)"
   ]
  },
  {
   "cell_type": "markdown",
   "id": "f9ab9f64",
   "metadata": {},
   "source": [
    "### Preprocess Dataset"
   ]
  },
  {
   "cell_type": "code",
   "execution_count": 12,
   "id": "0f5e9a2e",
   "metadata": {},
   "outputs": [],
   "source": [
    "def preprocess(image, label):\n",
    "    image = tf.cast(image, tf.float32) / 255.0\n",
    "    # image = tf.expand_dims(image, -1)\n",
    "    label = label - 1\n",
    "    return image, label"
   ]
  },
  {
   "cell_type": "code",
   "execution_count": 13,
   "id": "b90ea91b",
   "metadata": {},
   "outputs": [],
   "source": [
    "AUTOTUNE = tf.data.AUTOTUNE\n",
    "buffer_size = ds_info.splits['train'].num_examples + ds_info.splits['test'].num_examples\n",
    "\n",
    "ds_full = ds_full.map(preprocess, num_parallel_calls=AUTOTUNE)\n",
    "ds_full = ds_full.shuffle(buffer_size, reshuffle_each_iteration=True)"
   ]
  },
  {
   "cell_type": "code",
   "execution_count": 14,
   "id": "51b850bc",
   "metadata": {},
   "outputs": [],
   "source": [
    "total = buffer_size\n",
    "n_train = int(0.8 * total)\n",
    "n_val   = int(0.1 * total)\n",
    "n_test  = total - n_train - n_val\n",
    "\n",
    "ds_train = ds_full.take(n_train)\n",
    "rest = ds_full.skip(n_train)\n",
    "ds_val = rest.take(n_val)\n",
    "ds_test = rest.skip(n_val)\n"
   ]
  },
  {
   "cell_type": "code",
   "execution_count": 15,
   "id": "e068925e",
   "metadata": {},
   "outputs": [],
   "source": [
    "batch_size = 64\n",
    "\n",
    "ds_train_proc = (\n",
    "    ds_train\n",
    "    .batch(batch_size)\n",
    "    .prefetch(AUTOTUNE)\n",
    ")\n",
    "\n",
    "ds_val_proc = (\n",
    "    ds_val\n",
    "    .batch(batch_size)\n",
    "    .prefetch(AUTOTUNE)\n",
    ")\n",
    "\n",
    "ds_test_proc = (\n",
    "    ds_test\n",
    "    .batch(batch_size)\n",
    "    .prefetch(AUTOTUNE)\n",
    ")"
   ]
  },
  {
   "cell_type": "code",
   "execution_count": null,
   "id": "60c0e0e3",
   "metadata": {},
   "outputs": [],
   "source": [
    "## Print Numbre exambles in each set\n",
    "\n",
    "\n",
    "# print(\"Train set:\")\n",
    "# ctr = Counter()\n",
    "# for image, label in ds_train.map(preprocess).as_numpy_iterator():\n",
    "#     ctr[int(label)] += 1\n",
    "\n",
    "# for i in range(len(ctr)):\n",
    "#     print(f\"{i} ({label_map[i]}): {ctr[i]}\")\n",
    "\n",
    "# print(\"Validation set:\")\n",
    "# ctr = Counter()\n",
    "# for image, label in ds_val.map(preprocess).as_numpy_iterator():\n",
    "#     ctr[int(label)] += 1\n",
    "\n",
    "# # Mostrem el resultat\n",
    "# for i in range(len(ctr)):\n",
    "#     print(f\"{i} ({label_map[i]}): {ctr[i]}\")\n",
    "\n",
    "# print(\"Test set:\")\n",
    "# ctr = Counter()\n",
    "# for image, label in ds_test.map(preprocess).as_numpy_iterator():\n",
    "#     ctr[int(label)] += 1\n",
    "\n",
    "# # Mostrem el resultat\n",
    "# for i in range(len(ctr)):\n",
    "#     print(f\"{i} ({label_map[i]}): {ctr[i]}\")\n",
    "\n"
   ]
  },
  {
   "cell_type": "code",
   "execution_count": 16,
   "id": "432721ac",
   "metadata": {},
   "outputs": [
    {
     "data": {
      "image/png": "[encoded data removed]",
      "text/plain": [
       "<Figure size 800x600 with 6 Axes>"
      ]
     },
     "metadata": {},
     "output_type": "display_data"
    }
   ],
   "source": [
    "fig, axes = plt.subplots(2, 3, figsize=(8, 6))\n",
    "for i, example in enumerate(ds_train_proc.unbatch().take(6)):\n",
    "    image, label = example\n",
    "    ax = axes[i // 3, i % 3]\n",
    "    ax.imshow(tf.squeeze(image), cmap='gray')\n",
    "\n",
    "    label_str = label_map[label.numpy()]\n",
    "\n",
    "    ax.set_title(f'Label: {label_str}')\n",
    "    ax.axis('off')\n",
    "\n",
    "plt.tight_layout()\n",
    "plt.show()\n"
   ]
  },
  {
   "cell_type": "markdown",
   "id": "2618b067",
   "metadata": {},
   "source": [
    "### Model Definition"
   ]
  },
  {
   "cell_type": "code",
   "execution_count": null,
   "id": "72fd0842",
   "metadata": {},
   "outputs": [],
   "source": [
    "from tensorflow.keras import layers, models, optimizers, callbacks\n",
    "\n",
    "def create_cil_model(input_shape=(28,28,1), num_classes=26):\n",
    "    inp = layers.Input(input_shape)\n",
    "\n",
    "    # -------- Bloc 1 --------\n",
    "    x = layers.Conv2D(32, 3, padding='same', name='conv1')(inp)\n",
    "    x = layers.BatchNormalization(name='bn1')(x)\n",
    "    x = layers.Activation('relu')(x)\n",
    "    x = layers.Conv2D(32, 3, padding='same', name='conv1b')(x)\n",
    "    x = layers.BatchNormalization(name='bn1b')(x)\n",
    "    x = layers.Activation('relu')(x)\n",
    "    x = layers.MaxPool2D(2, name='pool1')(x)\n",
    "\n",
    "    # -------- Bloc 2 --------\n",
    "    x = layers.Conv2D(64, 3, padding='same', name='conv2')(x)\n",
    "    x = layers.BatchNormalization(name='bn2')(x)\n",
    "    x = layers.Activation('relu')(x)\n",
    "    x = layers.Conv2D(64, 3, padding='same', name='conv2b')(x)\n",
    "    x = layers.BatchNormalization(name='bn2b')(x)\n",
    "    x = layers.Activation('relu')(x)\n",
    "    x = layers.MaxPool2D(2, name='pool2')(x)\n",
    "\n",
    "    # -------- Embedding --------\n",
    "    x = layers.Flatten(name='flatten')(x)\n",
    "    x = layers.Dense(256, activation='relu', name='features1')(x)\n",
    "    x = layers.Dropout(0.5, name='drop1')(x)\n",
    "    x = layers.Dense(128, activation='relu', name='features2')(x)\n",
    "    x = layers.Dropout(0.5, name='drop2')(x)\n",
    "\n",
    "    # -------- Classificador -------- \n",
    "    logits = layers.Dense(num_classes, name='classifier')(x)\n",
    "    out   = layers.Activation('softmax', name='probabilities')(logits)\n",
    "\n",
    "    model = models.Model(inp, out)\n",
    "\n",
    "    for name in ['conv1','bn1','conv1b','bn1b','pool1']:\n",
    "        model.get_layer(name).trainable = False\n",
    "\n",
    "    return model"
   ]
  },
  {
   "cell_type": "markdown",
   "id": "2543d921",
   "metadata": {},
   "source": [
    "### Training"
   ]
  },
  {
   "cell_type": "code",
   "execution_count": null,
   "id": "ee4dbc59",
   "metadata": {},
   "outputs": [
    {
     "name": "stdout",
     "output_type": "stream",
     "text": [
      "Epoch 1/30\n",
      "\u001b[1m1295/1295\u001b[0m \u001b[32m━━━━━━━━━━━━━━━━━━━━\u001b[0m\u001b[37m\u001b[0m \u001b[1m48s\u001b[0m 36ms/step - accuracy: 0.2904 - loss: 2.4812 - val_accuracy: 0.8220 - val_loss: 0.5976 - learning_rate: 1.0000e-04\n",
      "Epoch 2/30\n",
      "\u001b[1m1295/1295\u001b[0m \u001b[32m━━━━━━━━━━━━━━━━━━━━\u001b[0m\u001b[37m\u001b[0m \u001b[1m48s\u001b[0m 37ms/step - accuracy: 0.7008 - loss: 0.9735 - val_accuracy: 0.8946 - val_loss: 0.3421 - learning_rate: 1.0000e-04\n",
      "Epoch 3/30\n",
      "\u001b[1m1295/1295\u001b[0m \u001b[32m━━━━━━━━━━━━━━━━━━━━\u001b[0m\u001b[37m\u001b[0m \u001b[1m46s\u001b[0m 35ms/step - accuracy: 0.7939 - loss: 0.6690 - val_accuracy: 0.9109 - val_loss: 0.2888 - learning_rate: 1.0000e-04\n",
      "Epoch 4/30\n",
      "\u001b[1m1295/1295\u001b[0m \u001b[32m━━━━━━━━━━━━━━━━━━━━\u001b[0m\u001b[37m\u001b[0m \u001b[1m45s\u001b[0m 34ms/step - accuracy: 0.8318 - loss: 0.5388 - val_accuracy: 0.9145 - val_loss: 0.2655 - learning_rate: 1.0000e-04\n",
      "Epoch 5/30\n",
      "\u001b[1m1295/1295\u001b[0m \u001b[32m━━━━━━━━━━━━━━━━━━━━\u001b[0m\u001b[37m\u001b[0m \u001b[1m47s\u001b[0m 36ms/step - accuracy: 0.8572 - loss: 0.4730 - val_accuracy: 0.9274 - val_loss: 0.2237 - learning_rate: 1.0000e-04\n",
      "Epoch 6/30\n",
      "\u001b[1m1295/1295\u001b[0m \u001b[32m━━━━━━━━━━━━━━━━━━━━\u001b[0m\u001b[37m\u001b[0m \u001b[1m46s\u001b[0m 35ms/step - accuracy: 0.8708 - loss: 0.4208 - val_accuracy: 0.9284 - val_loss: 0.2191 - learning_rate: 1.0000e-04\n",
      "Epoch 7/30\n",
      "\u001b[1m1295/1295\u001b[0m \u001b[32m━━━━━━━━━━━━━━━━━━━━\u001b[0m\u001b[37m\u001b[0m \u001b[1m43s\u001b[0m 33ms/step - accuracy: 0.8825 - loss: 0.3815 - val_accuracy: 0.9285 - val_loss: 0.2182 - learning_rate: 1.0000e-04\n",
      "Epoch 8/30\n",
      "\u001b[1m1295/1295\u001b[0m \u001b[32m━━━━━━━━━━━━━━━━━━━━\u001b[0m\u001b[37m\u001b[0m \u001b[1m44s\u001b[0m 34ms/step - accuracy: 0.8883 - loss: 0.3580 - val_accuracy: 0.9289 - val_loss: 0.2126 - learning_rate: 1.0000e-04\n",
      "Epoch 9/30\n",
      "\u001b[1m1295/1295\u001b[0m \u001b[32m━━━━━━━━━━━━━━━━━━━━\u001b[0m\u001b[37m\u001b[0m \u001b[1m46s\u001b[0m 35ms/step - accuracy: 0.8971 - loss: 0.3342 - val_accuracy: 0.9318 - val_loss: 0.1973 - learning_rate: 1.0000e-04\n",
      "Epoch 10/30\n",
      "\u001b[1m1295/1295\u001b[0m \u001b[32m━━━━━━━━━━━━━━━━━━━━\u001b[0m\u001b[37m\u001b[0m \u001b[1m46s\u001b[0m 35ms/step - accuracy: 0.8987 - loss: 0.3288 - val_accuracy: 0.9377 - val_loss: 0.1858 - learning_rate: 1.0000e-04\n",
      "Epoch 11/30\n",
      "\u001b[1m1295/1295\u001b[0m \u001b[32m━━━━━━━━━━━━━━━━━━━━\u001b[0m\u001b[37m\u001b[0m \u001b[1m44s\u001b[0m 33ms/step - accuracy: 0.9012 - loss: 0.3148 - val_accuracy: 0.9397 - val_loss: 0.1692 - learning_rate: 1.0000e-04\n",
      "Epoch 12/30\n",
      "\u001b[1m1295/1295\u001b[0m \u001b[32m━━━━━━━━━━━━━━━━━━━━\u001b[0m\u001b[37m\u001b[0m \u001b[1m45s\u001b[0m 34ms/step - accuracy: 0.9073 - loss: 0.2924 - val_accuracy: 0.9413 - val_loss: 0.1708 - learning_rate: 1.0000e-04\n",
      "Epoch 13/30\n",
      "\u001b[1m1295/1295\u001b[0m \u001b[32m━━━━━━━━━━━━━━━━━━━━\u001b[0m\u001b[37m\u001b[0m \u001b[1m44s\u001b[0m 33ms/step - accuracy: 0.9094 - loss: 0.2801 - val_accuracy: 0.9476 - val_loss: 0.1562 - learning_rate: 1.0000e-04\n",
      "Epoch 14/30\n",
      "\u001b[1m1295/1295\u001b[0m \u001b[32m━━━━━━━━━━━━━━━━━━━━\u001b[0m\u001b[37m\u001b[0m \u001b[1m44s\u001b[0m 34ms/step - accuracy: 0.9119 - loss: 0.2766 - val_accuracy: 0.9434 - val_loss: 0.1660 - learning_rate: 1.0000e-04\n",
      "Epoch 15/30\n",
      "\u001b[1m1295/1295\u001b[0m \u001b[32m━━━━━━━━━━━━━━━━━━━━\u001b[0m\u001b[37m\u001b[0m \u001b[1m43s\u001b[0m 32ms/step - accuracy: 0.9146 - loss: 0.2669 - val_accuracy: 0.9469 - val_loss: 0.1484 - learning_rate: 1.0000e-04\n",
      "Epoch 16/30\n",
      "\u001b[1m1295/1295\u001b[0m \u001b[32m━━━━━━━━━━━━━━━━━━━━\u001b[0m\u001b[37m\u001b[0m \u001b[1m42s\u001b[0m 32ms/step - accuracy: 0.9182 - loss: 0.2578 - val_accuracy: 0.9449 - val_loss: 0.1623 - learning_rate: 1.0000e-04\n",
      "Epoch 17/30\n",
      "\u001b[1m1295/1295\u001b[0m \u001b[32m━━━━━━━━━━━━━━━━━━━━\u001b[0m\u001b[37m\u001b[0m \u001b[1m42s\u001b[0m 32ms/step - accuracy: 0.9193 - loss: 0.2515 - val_accuracy: 0.9459 - val_loss: 0.1562 - learning_rate: 1.0000e-04\n",
      "Epoch 18/30\n",
      "\u001b[1m1295/1295\u001b[0m \u001b[32m━━━━━━━━━━━━━━━━━━━━\u001b[0m\u001b[37m\u001b[0m \u001b[1m42s\u001b[0m 32ms/step - accuracy: 0.9249 - loss: 0.2269 - val_accuracy: 0.9543 - val_loss: 0.1413 - learning_rate: 5.0000e-05\n",
      "Epoch 19/30\n",
      "\u001b[1m1295/1295\u001b[0m \u001b[32m━━━━━━━━━━━━━━━━━━━━\u001b[0m\u001b[37m\u001b[0m \u001b[1m43s\u001b[0m 33ms/step - accuracy: 0.9305 - loss: 0.2155 - val_accuracy: 0.9569 - val_loss: 0.1320 - learning_rate: 5.0000e-05\n",
      "Epoch 20/30\n",
      "\u001b[1m1295/1295\u001b[0m \u001b[32m━━━━━━━━━━━━━━━━━━━━\u001b[0m\u001b[37m\u001b[0m \u001b[1m44s\u001b[0m 33ms/step - accuracy: 0.9300 - loss: 0.2156 - val_accuracy: 0.9535 - val_loss: 0.1246 - learning_rate: 5.0000e-05\n",
      "Epoch 21/30\n",
      "\u001b[1m1295/1295\u001b[0m \u001b[32m━━━━━━━━━━━━━━━━━━━━\u001b[0m\u001b[37m\u001b[0m \u001b[1m42s\u001b[0m 32ms/step - accuracy: 0.9315 - loss: 0.2094 - val_accuracy: 0.9577 - val_loss: 0.1212 - learning_rate: 5.0000e-05\n",
      "Epoch 22/30\n",
      "\u001b[1m1295/1295\u001b[0m \u001b[32m━━━━━━━━━━━━━━━━━━━━\u001b[0m\u001b[37m\u001b[0m \u001b[1m42s\u001b[0m 32ms/step - accuracy: 0.9340 - loss: 0.2036 - val_accuracy: 0.9541 - val_loss: 0.1310 - learning_rate: 5.0000e-05\n",
      "Epoch 23/30\n",
      "\u001b[1m1295/1295\u001b[0m \u001b[32m━━━━━━━━━━━━━━━━━━━━\u001b[0m\u001b[37m\u001b[0m \u001b[1m43s\u001b[0m 32ms/step - accuracy: 0.9345 - loss: 0.2009 - val_accuracy: 0.9536 - val_loss: 0.1388 - learning_rate: 5.0000e-05\n",
      "Epoch 24/30\n",
      "\u001b[1m1295/1295\u001b[0m \u001b[32m━━━━━━━━━━━━━━━━━━━━\u001b[0m\u001b[37m\u001b[0m \u001b[1m47s\u001b[0m 36ms/step - accuracy: 0.9359 - loss: 0.1931 - val_accuracy: 0.9608 - val_loss: 0.1089 - learning_rate: 2.5000e-05\n",
      "Epoch 25/30\n",
      "\u001b[1m 876/1295\u001b[0m \u001b[32m━━━━━━━━━━━━━\u001b[0m\u001b[37m━━━━━━━\u001b[0m \u001b[1m14s\u001b[0m 34ms/step - accuracy: 0.9365 - loss: 0.1921"
     ]
    }
   ],
   "source": [
    "model = create_cil_model()\n",
    "opt = optimizers.Adam(learning_rate=1e-4)\n",
    "\n",
    "model.compile(\n",
    "    optimizer=opt,\n",
    "    loss='sparse_categorical_crossentropy',\n",
    "    metrics=['accuracy']\n",
    ")\n",
    "\n",
    "cb = [\n",
    "    callbacks.ReduceLROnPlateau(monitor='val_loss', factor=0.5, patience=2),\n",
    "    callbacks.EarlyStopping(monitor='val_loss', patience=5, restore_best_weights=True)\n",
    "]\n",
    "\n",
    "history = model.fit(\n",
    "    ds_train_proc,\n",
    "    validation_data=ds_val_proc,\n",
    "    epochs=30,\n",
    "    callbacks=cb\n",
    ")\n",
    "\n",
    "# Final test\n",
    "test_loss, test_acc = model.evaluate(ds_test_proc)\n",
    "print(f\"Test Acc: {test_acc:.3f}\")\n"
   ]
  },
  {
   "cell_type": "markdown",
   "id": "d65aa943",
   "metadata": {},
   "source": [
    "### Mdel Evaluation"
   ]
  },
  {
   "cell_type": "code",
   "execution_count": null,
   "id": "e5b76ce3",
   "metadata": {},
   "outputs": [],
   "source": [
    "import collections\n",
    "\n",
    "label_counts = collections.Counter(y_true)\n",
    "for i in range(26):\n",
    "    print(f\"{label_map[i]}: {label_counts[i]}\")\n"
   ]
  },
  {
   "cell_type": "code",
   "execution_count": null,
   "id": "af89c551",
   "metadata": {},
   "outputs": [],
   "source": [
    "# Evaluate loss and accuracy\n",
    "test_loss, test_acc = model.evaluate(ds_test_proc)\n",
    "print(f'\\nTest Loss: {test_loss:.4f}')\n",
    "print(f'Test Accuracy: {test_acc:.4f}')\n",
    "\n",
    "# Collect predictions and true labels\n",
    "y_true = []\n",
    "y_pred = []\n",
    "\n",
    "for images, labels in ds_test_proc:\n",
    "    probs = model.predict(images)\n",
    "    preds = tf.argmax(probs, axis=1).numpy()\n",
    "    y_pred.extend(preds)\n",
    "    y_true.extend(labels.numpy())\n",
    "\n",
    "# Confusion Matrix\n",
    "cm = confusion_matrix(y_true, y_pred)\n",
    "plt.figure(figsize=(12, 10))\n",
    "sns.heatmap(cm, annot=True, fmt='d', cmap='Blues',\n",
    "            xticklabels=label_map, yticklabels=label_map)\n",
    "plt.xlabel('Predicted')\n",
    "plt.ylabel('True')\n",
    "plt.title('Confusion Matrix')\n",
    "plt.show()\n",
    "\n",
    "# Classification Report\n",
    "print(\"\\nClassification Report (Precision, Recall, F1):\")\n",
    "print(classification_report(y_true, y_pred, target_names=label_map))"
   ]
  },
  {
   "cell_type": "code",
   "execution_count": null,
   "id": "1baa5936",
   "metadata": {},
   "outputs": [],
   "source": [
    "for images, labels in ds_test_proc.take(1):  # MUST be the preprocessed dataset\n",
    "    predictions = model(images)\n",
    "    pred_labels = tf.argmax(predictions, axis=1)\n",
    "    \n",
    "    fig, axes = plt.subplots(2, 3, figsize=(8, 6))\n",
    "    for i in range(6):\n",
    "        ax = axes[i // 3, i % 3]\n",
    "        ax.imshow(tf.squeeze(images[i]), cmap='gray')\n",
    "\n",
    "        true_char = label_map[labels[i].numpy()]           # 0–25 → 'A'–'Z'\n",
    "        pred_char = label_map[pred_labels[i].numpy()]      # 0–25 → 'A'–'Z'\n",
    "\n",
    "        ax.set_title(f'True: {true_char}, Pred: {pred_char}')\n",
    "        ax.axis('off')\n",
    "\n",
    "    plt.tight_layout()\n",
    "    plt.show()"
   ]
  },
  {
   "cell_type": "markdown",
   "id": "25247896",
   "metadata": {},
   "source": [
    "### Save Model"
   ]
  },
  {
   "cell_type": "code",
   "execution_count": null,
   "id": "03e29cc1",
   "metadata": {},
   "outputs": [],
   "source": [
    "model.save(\"emnist_model.keras\")"
   ]
  },
  {
   "cell_type": "markdown",
   "id": "506af9f0",
   "metadata": {},
   "source": [
    "## Model Wrap"
   ]
  },
  {
   "cell_type": "markdown",
   "id": "9e5bbcf8",
   "metadata": {},
   "source": [
    "### LittleRTModule"
   ]
  },
  {
   "cell_type": "code",
   "execution_count": null,
   "id": "c5747c53",
   "metadata": {},
   "outputs": [],
   "source": [
    "class LiteRTModule(tf.Module):\n",
    "    def __init__(self, model):\n",
    "        super().__init__()\n",
    "        self.model = model\n",
    "        self.optimizer = tf.keras.optimizers.Adam()\n",
    "        self.loss_fn = tf.keras.losses.SparseCategoricalCrossentropy()\n",
    "\n",
    "    @tf.function(input_signature=[\n",
    "        tf.TensorSpec([None, 28, 28, 1], tf.float32),\n",
    "        tf.TensorSpec([None], tf.int32)\n",
    "    ])\n",
    "    def train(self, x, y):\n",
    "        with tf.GradientTape() as tape:\n",
    "            logits = self.model(x, training=True)\n",
    "            loss = self.loss_fn(y, logits)\n",
    "        grads = tape.gradient(loss, self.model.trainable_variables)\n",
    "        self.optimizer.apply_gradients(zip(grads, self.model.trainable_variables))\n",
    "        return {\"loss\": loss}\n",
    "\n",
    "    @tf.function(input_signature=[\n",
    "        tf.TensorSpec([None, 28, 28, 1], tf.float32)\n",
    "    ])\n",
    "    def infer(self, x):\n",
    "        probs = self.model(x, training=False)\n",
    "        return {\"probs\": probs}"
   ]
  },
  {
   "cell_type": "markdown",
   "id": "20ec9291",
   "metadata": {},
   "source": [
    "### Create Wraped Model"
   ]
  },
  {
   "cell_type": "code",
   "execution_count": null,
   "id": "787b0974",
   "metadata": {},
   "outputs": [],
   "source": [
    "litert_module = LiteRTModule(model)"
   ]
  },
  {
   "cell_type": "markdown",
   "id": "de97adc4",
   "metadata": {},
   "source": [
    "### Save Model with Signatures"
   ]
  },
  {
   "cell_type": "code",
   "execution_count": null,
   "id": "671cafd8",
   "metadata": {},
   "outputs": [],
   "source": [
    "tf.saved_model.save(\n",
    "    litert_module,\n",
    "    \"saved_model\",\n",
    "    signatures={\n",
    "        'train': litert_module.train.get_concrete_function(),\n",
    "        'infer': litert_module.infer.get_concrete_function()\n",
    "    }\n",
    ")"
   ]
  },
  {
   "cell_type": "markdown",
   "id": "f74375a2",
   "metadata": {},
   "source": [
    "### Convert to TFLitle"
   ]
  },
  {
   "cell_type": "code",
   "execution_count": null,
   "id": "31c2b8ce",
   "metadata": {},
   "outputs": [],
   "source": [
    "converter = tf.lite.TFLiteConverter.from_saved_model(\"saved_model\")\n",
    "converter.target_spec.supported_ops = [\n",
    "    tf.lite.OpsSet.TFLITE_BUILTINS,\n",
    "    tf.lite.OpsSet.SELECT_TF_OPS\n",
    "]\n",
    "converter.experimental_enable_resource_variables = True\n",
    "tflite_model = converter.convert()\n",
    "\n",
    "with open(\"emnist_litert_model_FIXED.tflite\", \"wb\") as f:\n",
    "    f.write(tflite_model)"
   ]
  },
  {
   "cell_type": "code",
   "execution_count": null,
   "id": "8f26708c",
   "metadata": {},
   "outputs": [],
   "source": [
    "model = tf.keras.models.load_model(\"emnist_model.keras\")\n",
    "\n",
    "t_converter = tf.lite.TFLiteConverter.from_keras_model(model)\n",
    "\n",
    "t_converter.experimental_enable_resource_variables = False\n",
    "\n",
    "t_converter.target_spec.supported_ops = [\n",
    "    tf.lite.OpsSet.TFLITE_BUILTINS,\n",
    "    tf.lite.OpsSet.SELECT_TF_OPS\n",
    "]\n",
    "test_tflite_model = t_converter.convert()\n",
    "\n",
    "with open(\"test_emnist_model_infer_only.tflite\", \"wb\") as f:\n",
    "    f.write(test_tflite_model)\n"
   ]
  },
  {
   "cell_type": "markdown",
   "id": "2af23624",
   "metadata": {},
   "source": [
    "## Comparation"
   ]
  },
  {
   "cell_type": "code",
   "execution_count": null,
   "id": "081afa95",
   "metadata": {},
   "outputs": [],
   "source": [
    "interpreter = tf.lite.Interpreter(model_path=\"test_emnist_model_infer_only.tflite\")\n",
    "interpreter.allocate_tensors()\n",
    "input_details = interpreter.get_input_details()\n",
    "output_details = interpreter.get_output_details()"
   ]
  },
  {
   "cell_type": "code",
   "execution_count": null,
   "id": "4cb35351",
   "metadata": {},
   "outputs": [],
   "source": [
    "x_all = []\n",
    "y_all = []\n",
    "for x_batch, y_batch in ds_test.take(2):  # 2 batches = 128 samples\n",
    "    x_all.append(x_batch.numpy())\n",
    "    y_all.append(y_batch.numpy())\n",
    "\n",
    "x = np.concatenate(x_all, axis=0)\n",
    "y = np.concatenate(y_all, axis=0)\n",
    "\n",
    "num_samples = 100  # Set desired test size\n",
    "\n",
    "# --- Run predictions ---\n",
    "keras_logits = model.predict(x[:num_samples])\n",
    "tflite_logits = []\n",
    "\n",
    "for i in range(num_samples):\n",
    "    sample = np.expand_dims(x[i], axis=0).astype(np.float32)\n",
    "    interpreter.set_tensor(input_details[0]['index'], sample)\n",
    "    interpreter.invoke()\n",
    "    output = interpreter.get_tensor(output_details[0]['index'])[0]\n",
    "    tflite_logits.append(output)\n",
    "\n",
    "tflite_logits = np.array(tflite_logits)\n",
    "\n",
    "# --- Accuracy ---\n",
    "keras_preds = np.argmax(keras_logits, axis=1)\n",
    "tflite_preds = np.argmax(tflite_logits, axis=1)\n",
    "keras_correct = np.sum(keras_preds == y[:num_samples])\n",
    "tflite_correct = np.sum(tflite_preds == y[:num_samples])\n",
    "\n",
    "# --- Differences ---\n",
    "avg_diff = np.mean(np.abs(keras_logits - tflite_logits))\n",
    "max_diff = np.max(np.abs(keras_logits - tflite_logits))\n",
    "\n",
    "# --- Report ---\n",
    "print(\"📊 Model Comparison Summary\")\n",
    "print(f\"✅ Keras Accuracy:      {keras_correct / num_samples:.4f}\")\n",
    "print(f\"✅ TFLite Accuracy:     {tflite_correct / num_samples:.4f}\")\n",
    "print(f\"📉 Avg Logit Delta:     {avg_diff:.2e}\")\n",
    "print(f\"📈 Max Logit Delta:     {max_diff:.2e}\")\n"
   ]
  }
 ],
 "metadata": {
  "kernelspec": {
   "display_name": ".venv",
   "language": "python",
   "name": "python3"
  },
  "language_info": {
   "codemirror_mode": {
    "name": "ipython",
    "version": 3
   },
   "file_extension": ".py",
   "mimetype": "text/x-python",
   "name": "python",
   "nbconvert_exporter": "python",
   "pygments_lexer": "ipython3",
   "version": "3.11.9"
  }
 },
 "nbformat": 4,
 "nbformat_minor": 5
}
