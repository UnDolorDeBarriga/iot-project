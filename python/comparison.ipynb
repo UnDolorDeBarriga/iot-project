{
 "cells": [
  {
   "cell_type": "markdown",
   "id": "7db9ba69",
   "metadata": {},
   "source": [
    "# On device Training Little"
   ]
  },
  {
   "cell_type": "code",
   "execution_count": null,
   "id": "b1e11cde",
   "metadata": {},
   "outputs": [],
   "source": [
    "import tensorflow as tf\n",
    "import numpy as np\n",
    "import matplotlib.pyplot as plt\n",
    "from tensorflow import keras"
   ]
  },
  {
   "cell_type": "markdown",
   "id": "6897f533",
   "metadata": {},
   "source": [
    "## Load Models"
   ]
  },
  {
   "cell_type": "code",
   "execution_count": null,
   "id": "5ed7c4da",
   "metadata": {},
   "outputs": [],
   "source": [
    "model = tf.keras.models.load_model(\"../models/emnist_model.keras\")"
   ]
  },
  {
   "cell_type": "code",
   "execution_count": null,
   "id": "0e6176a9",
   "metadata": {},
   "outputs": [],
   "source": [
    "inf = tf.lite.Interpreter(model_path=\"../models/emnist_litert_infer.tflite\")\n",
    "inf.allocate_tensors()\n",
    "inp_det = inf.get_input_details()[0]\n",
    "out_det = inf.get_output_details()[0]"
   ]
  },
  {
   "cell_type": "markdown",
   "id": "bb582ccd",
   "metadata": {},
   "source": [
    "## Load test dataset"
   ]
  },
  {
   "cell_type": "code",
   "execution_count": null,
   "id": "710b4c24",
   "metadata": {},
   "outputs": [],
   "source": [
    "element_spec = (\n",
    "    tf.TensorSpec([None, 28, 28, 1], tf.float32),\n",
    "    tf.TensorSpec([None],          tf.int64),\n",
    ")\n",
    "ds_test_proc = tf.data.Dataset.load(\"../saved_ds/test_proc\", element_spec)"
   ]
  },
  {
   "cell_type": "markdown",
   "id": "d6786f4a",
   "metadata": {},
   "source": [
    "### Prepare DS and Model"
   ]
  },
  {
   "cell_type": "code",
   "execution_count": null,
   "id": "41b4bcec",
   "metadata": {},
   "outputs": [],
   "source": [
    "x_list, y_list = [], []\n",
    "for xb, yb in ds_test_proc.take(2):\n",
    "    x_list.append(xb.numpy())\n",
    "    y_list.append(yb.numpy())\n",
    "    \n",
    "x = np.concatenate(x_list, axis=0)   # shape (128,28,28,1)\n",
    "y = np.concatenate(y_list, axis=0)   # shape (128,)"
   ]
  },
  {
   "cell_type": "markdown",
   "id": "abdc76da",
   "metadata": {},
   "source": [
    "## Compare"
   ]
  },
  {
   "cell_type": "code",
   "execution_count": null,
   "id": "5512ec96",
   "metadata": {},
   "outputs": [],
   "source": [
    "num = 100\n",
    "keras_logits  = model.predict(x[:num])\n",
    "tflite_logits = []\n",
    "for i in range(num):\n",
    "    sample = x[i:i+1].astype(np.float32)\n",
    "    inf.set_tensor(inp_det['index'], sample)\n",
    "    inf.invoke()\n",
    "    tflite_logits.append(inf.get_tensor(out_det['index'])[0])\n",
    "tflite_logits = np.stack(tflite_logits, axis=0)\n",
    "\n",
    "keras_preds  = np.argmax(keras_logits, axis=1)\n",
    "tflite_preds = np.argmax(tflite_logits,axis=1)\n",
    "kacc         = np.mean(keras_preds  == y[:num])\n",
    "tacc         = np.mean(tflite_preds == y[:num])\n",
    "avgd         = np.mean(np.abs(keras_logits - tflite_logits))\n",
    "maxd         = np.max (np.abs(keras_logits - tflite_logits))\n",
    "\n",
    "print(\"📊 Model Comparison Summary\")\n",
    "print(f\"✅ Keras Accuracy:      {kacc:.4f}\")\n",
    "print(f\"✅ TFLite Accuracy:     {tacc:.4f}\")\n",
    "print(f\"📉 Avg Logit Delta:     {avgd:.2e}\")\n",
    "print(f\"📈 Max Logit Delta:     {maxd:.2e}\")"
   ]
  }
 ],
 "metadata": {
  "kernelspec": {
   "display_name": ".venv",
   "language": "python",
   "name": "python3"
  },
  "language_info": {
   "codemirror_mode": {
    "name": "ipython",
    "version": 3
   },
   "file_extension": ".py",
   "mimetype": "text/x-python",
   "name": "python",
   "nbconvert_exporter": "python",
   "pygments_lexer": "ipython3",
   "version": "3.11.2"
  }
 },
 "nbformat": 4,
 "nbformat_minor": 5
}
